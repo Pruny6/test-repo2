{
  "nbformat": 4,
  "nbformat_minor": 0,
  "metadata": {
    "colab": {
      "provenance": []
    },
    "kernelspec": {
      "name": "python3",
      "display_name": "Python 3"
    },
    "language_info": {
      "name": "python"
    }
  },
  "cells": [
    {
      "cell_type": "code",
      "execution_count": null,
      "metadata": {
        "colab": {
          "base_uri": "https://localhost:8080/"
        },
        "id": "nmzSJ7FK0Knv",
        "outputId": "f1e8523e-85fc-403f-9563-4cf38a6c7fd0"
      },
      "outputs": [
        {
          "output_type": "stream",
          "name": "stdout",
          "text": [
            "Stelios\n",
            "London\n",
            "Hi there\n"
          ]
        }
      ],
      "source": [
        "print(\"Stelios\")\n",
        "print(\"London\")\n",
        "print(\"Hi\",\"there\")"
      ]
    },
    {
      "cell_type": "code",
      "source": [
        "print((3*12+5)/23)"
      ],
      "metadata": {
        "colab": {
          "base_uri": "https://localhost:8080/"
        },
        "id": "3qABrVk61nqH",
        "outputId": "a268e714-47d6-4413-dd17-0d9c7e39e86d"
      },
      "execution_count": null,
      "outputs": [
        {
          "output_type": "stream",
          "name": "stdout",
          "text": [
            "1.7826086956521738\n"
          ]
        }
      ]
    },
    {
      "cell_type": "code",
      "source": [
        "input(\"Enter a name: \")"
      ],
      "metadata": {
        "colab": {
          "base_uri": "https://localhost:8080/",
          "height": 55
        },
        "id": "KSsnMBpy2B5b",
        "outputId": "ff829cba-ff50-4f1d-ceb2-c023f8d3c2ca"
      },
      "execution_count": null,
      "outputs": [
        {
          "name": "stdout",
          "output_type": "stream",
          "text": [
            "Enter a name: Prune\n"
          ]
        },
        {
          "output_type": "execute_result",
          "data": {
            "text/plain": [
              "'Prune'"
            ],
            "application/vnd.google.colaboratory.intrinsic+json": {
              "type": "string"
            }
          },
          "metadata": {},
          "execution_count": 7
        }
      ]
    },
    {
      "cell_type": "code",
      "source": [
        "name = input(\"Enter a name: \")\n",
        "city = input(\"Enter a city: \")\n",
        "print(\"Hello\",name,\"from\",city)"
      ],
      "metadata": {
        "colab": {
          "base_uri": "https://localhost:8080/"
        },
        "id": "WmG1cqFw2xV6",
        "outputId": "2057ba13-3ef2-402d-e35c-5045382a73ce"
      },
      "execution_count": null,
      "outputs": [
        {
          "output_type": "stream",
          "name": "stdout",
          "text": [
            "Enter a name: Prune\n",
            "Enter a city: London\n",
            "Hello Prune from London\n"
          ]
        }
      ]
    },
    {
      "cell_type": "markdown",
      "source": [
        "Exercise:\n",
        "Ask user to enter name, tel number and city\n",
        "Print in the following form:\n",
        "Stelios from Paris, tel is:34324324"
      ],
      "metadata": {
        "id": "T_746pse3cGJ"
      }
    },
    {
      "cell_type": "code",
      "source": [
        "name = input(\"enter a name: \")\n",
        "tel = input(\"enter your tel: \")\n",
        "city= input(\"enter your city: \")\n",
        "print(name,\"from\",city, \",\",\"tel is:\",tel)"
      ],
      "metadata": {
        "colab": {
          "base_uri": "https://localhost:8080/"
        },
        "id": "oNUgtiMo3rR0",
        "outputId": "abe24af5-c5b2-43b5-bcd2-b6f29ccedde4"
      },
      "execution_count": null,
      "outputs": [
        {
          "output_type": "stream",
          "name": "stdout",
          "text": [
            "enter a name: prune\n",
            "enter your tel: 435636\n",
            "enter your city: london\n",
            "prune from london , tel is:  435636\n"
          ]
        }
      ]
    },
    {
      "cell_type": "code",
      "source": [
        "print(\"Stelios\"*3)\n",
        "print(\"Setlios\"+\"1\")"
      ],
      "metadata": {
        "colab": {
          "base_uri": "https://localhost:8080/"
        },
        "id": "YJWPCZRm5R-K",
        "outputId": "84cb7967-330a-417c-f165-e7c5aaf0478e"
      },
      "execution_count": null,
      "outputs": [
        {
          "output_type": "stream",
          "name": "stdout",
          "text": [
            "SteliosSteliosStelios\n",
            "Setlios1\n"
          ]
        }
      ]
    },
    {
      "cell_type": "code",
      "source": [
        "age = int(input(\"how old are you?\"))\n",
        "print(age*3)"
      ],
      "metadata": {
        "colab": {
          "base_uri": "https://localhost:8080/"
        },
        "id": "_k8VAe0v5gOn",
        "outputId": "89babfe0-7f5f-434b-d10b-395e39a94b40"
      },
      "execution_count": null,
      "outputs": [
        {
          "output_type": "stream",
          "name": "stdout",
          "text": [
            "how old are you?6\n",
            "18\n"
          ]
        }
      ]
    },
    {
      "cell_type": "markdown",
      "source": [
        "Exercise: Ask user to give 2 numbers, one after the other, Print the addition of numbers.\n",
        "5, 6, 11"
      ],
      "metadata": {
        "id": "-Jw_A5U16BVZ"
      }
    },
    {
      "cell_type": "code",
      "source": [
        "x = int(input(\"choose a number: \"))\n",
        "y = float(input(\"choose a second number: \"))\n",
        "print(x+y)"
      ],
      "metadata": {
        "colab": {
          "base_uri": "https://localhost:8080/"
        },
        "id": "FCIDy0Lg6mjT",
        "outputId": "c709c724-a8f1-40e9-e1ff-dd89134669f6"
      },
      "execution_count": null,
      "outputs": [
        {
          "output_type": "stream",
          "name": "stdout",
          "text": [
            "choose a number: 3\n",
            "choose a second number: 4.5\n",
            "7.5\n"
          ]
        }
      ]
    },
    {
      "cell_type": "code",
      "source": [
        "x = 10\n",
        "y = 0\n",
        "if y==0:\n",
        "  print(\"I cannot divide by zero\")\n",
        "  print(\"t debile\")\n",
        "else:\n",
        "  print(x/y)"
      ],
      "metadata": {
        "colab": {
          "base_uri": "https://localhost:8080/"
        },
        "id": "tpqeIUWN8CeX",
        "outputId": "08018c89-1296-4a47-837a-6ce00fb50c39"
      },
      "execution_count": null,
      "outputs": [
        {
          "output_type": "stream",
          "name": "stdout",
          "text": [
            "I cannot divide by zero\n",
            "t debile\n",
            "okay\n"
          ]
        }
      ]
    },
    {
      "cell_type": "markdown",
      "source": [
        "ask user to enter 2 integer numbers, print the largest number\n",
        "5\n",
        "12\n",
        "max is 12"
      ],
      "metadata": {
        "id": "NvsYdWRU9DQp"
      }
    },
    {
      "cell_type": "code",
      "source": [
        "x = int(input(\"choose a number: \"))\n",
        "y = int(input(\"choose another number: \"))\n",
        "if x>y:\n",
        "  print(\"Max is\",x)\n",
        "else:\n",
        "  print(\"max is\",y)\n"
      ],
      "metadata": {
        "colab": {
          "base_uri": "https://localhost:8080/"
        },
        "id": "YcXa25ih9Ius",
        "outputId": "10f20f68-6239-45d2-8cb6-c01190c9f757"
      },
      "execution_count": null,
      "outputs": [
        {
          "output_type": "stream",
          "name": "stdout",
          "text": [
            "choose a number: 4\n",
            "choose another number: 3\n",
            "Max is 4\n"
          ]
        }
      ]
    },
    {
      "cell_type": "code",
      "source": [
        "x = int(input(\"Enter a number: \"))\n",
        "if x>0:\n",
        "  print(\"positive\")\n",
        "elif x==0:\n",
        "  print(\"zero\")\n",
        "else:\n",
        "  print(\"negative\")\n"
      ],
      "metadata": {
        "colab": {
          "base_uri": "https://localhost:8080/"
        },
        "id": "cGS4lgiLGYYD",
        "outputId": "a336dd58-70ea-4f5b-e85e-d1d1234c2727"
      },
      "execution_count": null,
      "outputs": [
        {
          "output_type": "stream",
          "name": "stdout",
          "text": [
            "Enter a number: 0\n",
            "zero\n"
          ]
        }
      ]
    },
    {
      "cell_type": "code",
      "source": [
        "x = int(input(\"Enter a number: \"))\n",
        "if x>=0 and x<=10:\n",
        "  print(\"number between 0 and 10\")\n"
      ],
      "metadata": {
        "colab": {
          "base_uri": "https://localhost:8080/"
        },
        "id": "-fhFAZi4HIOx",
        "outputId": "b8831676-7b83-442c-8a5a-fd4071aefecf"
      },
      "execution_count": null,
      "outputs": [
        {
          "output_type": "stream",
          "name": "stdout",
          "text": [
            "Enter a number: 10\n",
            "number between 0 and 10\n"
          ]
        }
      ]
    },
    {
      "cell_type": "code",
      "source": [
        "x = float(input(\"What is your score: \"))\n",
        "if x>=0 and x<10:\n",
        "  print(\"FAIL\")\n",
        "elif x>=10 and x<15:\n",
        "  print(\"PASS\")\n",
        "elif x>=15 and x<=20:\n",
        "  print(\"DISTINCTION\")\n",
        "else:\n",
        "  print(\"ERROR\")"
      ],
      "metadata": {
        "colab": {
          "base_uri": "https://localhost:8080/"
        },
        "id": "_BqGzt8oH_cD",
        "outputId": "65e567fd-9adf-4342-a3bf-ed019f107cb0"
      },
      "execution_count": null,
      "outputs": [
        {
          "output_type": "stream",
          "name": "stdout",
          "text": [
            "What is your score: 11\n",
            "PASS\n"
          ]
        }
      ]
    }
  ]
}